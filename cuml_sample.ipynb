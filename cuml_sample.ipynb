{
 "cells": [
  {
   "cell_type": "code",
   "execution_count": 1,
   "metadata": {},
   "outputs": [],
   "source": [
    "import cuml\n",
    "import cudf\n",
    "import os\n",
    "import numpy as np\n",
    "import cupy as cp\n",
    "import dask_ml.model_selection as dms\n",
    "from cuml.model_selection import train_test_split\n",
    "from cuml.linear_model import MBSGDClassifier,LogisticRegression\n",
    "from cuml.svm import SVC\n",
    "from cuml.ensemble import RandomForestClassifier\n",
    "from cuml.preprocessing import LabelEncoder\n",
    "from cuml.metrics import confusion_matrix\n",
    "\n"
   ]
  },
  {
   "cell_type": "code",
   "execution_count": 2,
   "metadata": {},
   "outputs": [],
   "source": [
    "#reading csv using cudf which gpu alternative for pandas\n",
    "cdf= cudf.read_csv('heart.csv')\n",
    "encoder=LabelEncoder()"
   ]
  },
  {
   "cell_type": "code",
   "execution_count": 4,
   "metadata": {},
   "outputs": [],
   "source": [
    "# encoding any columns that's not in numerical\n",
    "for i in cdf.columns:\n",
    "    if(cdf[i].dtype=='object'):\n",
    "        cdf[i]=encoder.fit_transform(cdf[i])"
   ]
  },
  {
   "cell_type": "code",
   "execution_count": 5,
   "metadata": {},
   "outputs": [],
   "source": [
    "#creating a x and y to seperate independent and dependent variables\n",
    "x=cdf.drop(['HeartDisease'],axis=1)\n",
    "y=cdf['HeartDisease']\n",
    "x_train,x_test,y_train,y_test= train_test_split(x,y,test_size=0.25)"
   ]
  },
  {
   "cell_type": "code",
   "execution_count": 14,
   "metadata": {},
   "outputs": [],
   "source": [
    "#initializing multiple ml algorithms\n",
    "lr=LogisticRegression()\n",
    "sgd=MBSGDClassifier()\n",
    "svc=SVC()\n",
    "rfc=RandomForestClassifier()"
   ]
  },
  {
   "cell_type": "code",
   "execution_count": 7,
   "metadata": {},
   "outputs": [],
   "source": [
    "#function to train the models and display confusion matrix\n",
    "def results(model,cdf):\n",
    "    x=cdf.drop(['HeartDisease'],axis=1)\n",
    "    y=cdf['HeartDisease']\n",
    "    x_train,x_test,y_train,y_test= train_test_split(x,y,test_size=0.25,random_state=42)\n",
    "    model.fit(x_train,y_train)\n",
    "    y_pred=model.predict(x_test)\n",
    "    print(confusion_matrix(y_test,y_pred))"
   ]
  },
  {
   "cell_type": "code",
   "execution_count": 8,
   "metadata": {},
   "outputs": [
    {
     "name": "stdout",
     "output_type": "stream",
     "text": [
      "[[ 82  14]\n",
      " [ 17 116]]\n"
     ]
    }
   ],
   "source": [
    "results(lr,cdf)"
   ]
  },
  {
   "cell_type": "code",
   "execution_count": 9,
   "metadata": {},
   "outputs": [
    {
     "name": "stdout",
     "output_type": "stream",
     "text": [
      "[[ 78  18]\n",
      " [ 19 114]]\n"
     ]
    }
   ],
   "source": [
    "results(sgd,cdf)"
   ]
  },
  {
   "cell_type": "code",
   "execution_count": 10,
   "metadata": {},
   "outputs": [
    {
     "name": "stdout",
     "output_type": "stream",
     "text": [
      "[[70 26]\n",
      " [44 89]]\n"
     ]
    }
   ],
   "source": [
    "results(svc,cdf)"
   ]
  },
  {
   "cell_type": "code",
   "execution_count": 11,
   "metadata": {},
   "outputs": [
    {
     "name": "stdout",
     "output_type": "stream",
     "text": [
      "[[ 83  13]\n",
      " [ 19 114]]\n"
     ]
    },
    {
     "name": "stderr",
     "output_type": "stream",
     "text": [
      "/packages/7x/anaconda3/5.3.0/envs/rapids-22.02-cuda-11.5/lib/python3.9/site-packages/cuml/internals/api_decorators.py:567: UserWarning: To use pickling or GPU-based prediction first train using float32 data to fit the estimator\n",
      "  ret_val = func(*args, **kwargs)\n",
      "/packages/7x/anaconda3/5.3.0/envs/rapids-22.02-cuda-11.5/lib/python3.9/contextlib.py:79: UserWarning: GPU based predict only accepts np.float32 data. The model was trained on np.float64 data hence cannot use GPU-based prediction! \n",
      "Defaulting to CPU-based Prediction. \n",
      "To predict on float-64 data, set parameter predict_model = 'CPU'\n",
      "  return func(*args, **kwds)\n"
     ]
    }
   ],
   "source": [
    "results(rfc,cdf)"
   ]
  },
  {
   "cell_type": "markdown",
   "metadata": {},
   "source": [
    "The RandomForestClassifier takes input in float32 for GPU computation and auntomatically converts it into float32 during inference if it doesn't we need to convert the training data to float32 but confusion matrix works on int so we converted the predicted result to int64"
   ]
  },
  {
   "cell_type": "code",
   "execution_count": 33,
   "metadata": {},
   "outputs": [
    {
     "data": {
      "text/plain": [
       "array([[ 88,  14],\n",
       "       [ 14, 113]])"
      ]
     },
     "execution_count": 33,
     "metadata": {},
     "output_type": "execute_result"
    }
   ],
   "source": [
    "rfc.fit(x_train.astype(cp.float32),y_train.astype(cp.float32))\n",
    "confusion_matrix(y_test,rfc.predict(x_test).astype(cp.int64))"
   ]
  },
  {
   "cell_type": "code",
   "execution_count": 16,
   "metadata": {},
   "outputs": [],
   "source": [
    "rfc.fit(x_train,y_train)\n",
    "y_pred=rfc.predict(x_test,predict_model='CPU')"
   ]
  },
  {
   "attachments": {},
   "cell_type": "markdown",
   "metadata": {},
   "source": [
    "We can conclude that the package rapidai is imple to use and helps us in leveraging the gpu for both data procesing and ml implementation "
   ]
  },
  {
   "cell_type": "code",
   "execution_count": null,
   "metadata": {},
   "outputs": [],
   "source": []
  }
 ],
 "metadata": {
  "kernelspec": {
   "display_name": "rapids-22.02-cuda-11.5",
   "language": "python",
   "name": "rapids-22.02-cuda-11.5"
  },
  "language_info": {
   "codemirror_mode": {
    "name": "ipython",
    "version": 3
   },
   "file_extension": ".py",
   "mimetype": "text/x-python",
   "name": "python",
   "nbconvert_exporter": "python",
   "pygments_lexer": "ipython3",
   "version": "3.9.12"
  }
 },
 "nbformat": 4,
 "nbformat_minor": 2
}
